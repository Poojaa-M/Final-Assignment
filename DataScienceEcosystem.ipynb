{
 "cells": [
  {
   "cell_type": "markdown",
   "id": "fa252c41-c4ac-47f8-b846-cd966880453b",
   "metadata": {},
   "source": [
    "Data Science Tools and Ecosystem"
   ]
  },
  {
   "cell_type": "markdown",
   "id": "fea235f9-a6b0-4a16-be5f-186e2c75a688",
   "metadata": {},
   "source": [
    "In this notebook, Data Science Tools and Ecosystem are summarized."
   ]
  },
  {
   "cell_type": "markdown",
   "id": "f20c08b9-ebe7-41b7-ac65-10f47ad0c058",
   "metadata": {},
   "source": [
    "# Objectives:\n",
    "* Create a Jupyter Notebook\n",
    "* List Popular Languages for data science\n",
    "* List Commonly used Libraries for data science\n",
    "* List some of the data Science tools\n",
    "* Perform Arithmetic Operations\n"
   ]
  },
  {
   "cell_type": "markdown",
   "id": "82583df8-270f-45b2-8ba5-6f8a4b64a90f",
   "metadata": {},
   "source": [
    "Some of the popular languages that Data Scientists use are:\n",
    "1. Python\n",
    "2. Julia\n",
    "3. SQL"
   ]
  },
  {
   "cell_type": "markdown",
   "id": "75476697-588f-4fa1-8de5-9b6e7056692f",
   "metadata": {},
   "source": [
    "Some of the commonly used libraries used by Data Scientists include:\n",
    "1. Matplot\n",
    "2. Pandas\n",
    "3. Numpy"
   ]
  },
  {
   "cell_type": "markdown",
   "id": "c4b5fad0-a264-4b01-83eb-991f850ab937",
   "metadata": {},
   "source": [
    "| Data Science Tools |\n",
    "| ------------------ |\n",
    "| Jupyter Notebook |\n",
    "| R Studio |\n",
    "| PyTorch |"
   ]
  },
  {
   "cell_type": "code",
   "execution_count": null,
   "id": "afc5e962-12dc-4c62-bb45-d01089831405",
   "metadata": {},
   "outputs": [],
   "source": []
  },
  {
   "cell_type": "markdown",
   "id": "2b3d974e-2942-4b6d-a59f-4264d38d2d82",
   "metadata": {},
   "source": [
    "### Below are a few examples of evaluating arithmetic expressions in Python"
   ]
  },
  {
   "cell_type": "code",
   "execution_count": 1,
   "id": "161093bc-a0ec-49d8-99b1-9b55c4eb0d98",
   "metadata": {
    "tags": []
   },
   "outputs": [
    {
     "data": {
      "text/plain": [
       "17"
      ]
     },
     "execution_count": 1,
     "metadata": {},
     "output_type": "execute_result"
    }
   ],
   "source": [
    "# This \n",
    "(3*4)+5"
   ]
  },
  {
   "cell_type": "code",
   "execution_count": 2,
   "id": "00689f39-a14e-4d02-97e1-1ae9a005d647",
   "metadata": {
    "tags": []
   },
   "outputs": [
    {
     "data": {
      "text/plain": [
       "3.3333333333333335"
      ]
     },
     "execution_count": 2,
     "metadata": {},
     "output_type": "execute_result"
    }
   ],
   "source": [
    "# This will convert 200 minutes to hours by diving by 60\n",
    "200/60\n"
   ]
  },
  {
   "cell_type": "markdown",
   "id": "eab172a2-5009-4a7d-8004-a5b427a670a7",
   "metadata": {
    "tags": []
   },
   "source": [
    "## Author\n",
    "Poojaa"
   ]
  }
 ],
 "metadata": {
  "kernelspec": {
   "display_name": "Python",
   "language": "python",
   "name": "conda-env-python-py"
  },
  "language_info": {
   "codemirror_mode": {
    "name": "ipython",
    "version": 3
   },
   "file_extension": ".py",
   "mimetype": "text/x-python",
   "name": "python",
   "nbconvert_exporter": "python",
   "pygments_lexer": "ipython3",
   "version": "3.7.12"
  }
 },
 "nbformat": 4,
 "nbformat_minor": 5
}
